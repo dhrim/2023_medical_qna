{
 "cells": [
  {
   "cell_type": "code",
   "execution_count": 1,
   "metadata": {},
   "outputs": [
    {
     "name": "stdout",
     "output_type": "stream",
     "text": [
      "Defaulting to user installation because normal site-packages is not writeable\n",
      "Requirement already satisfied: beautifulsoup4 in /workspace/.pyenv_mirror/user/current/lib/python3.10/site-packages (4.8.2)\n",
      "Requirement already satisfied: soupsieve>=1.2 in /workspace/.pyenv_mirror/user/current/lib/python3.10/site-packages (from beautifulsoup4) (2.5)\n",
      "Note: you may need to restart the kernel to use updated packages.\n",
      "Defaulting to user installation because normal site-packages is not writeable\n",
      "Requirement already satisfied: requests in /workspace/.pyenv_mirror/user/current/lib/python3.10/site-packages (2.31.0)\n",
      "Requirement already satisfied: urllib3<3,>=1.21.1 in /workspace/.pyenv_mirror/user/current/lib/python3.10/site-packages (from requests) (2.0.6)\n",
      "Requirement already satisfied: charset-normalizer<4,>=2 in /workspace/.pyenv_mirror/user/current/lib/python3.10/site-packages (from requests) (3.3.0)\n",
      "Requirement already satisfied: certifi>=2017.4.17 in /workspace/.pyenv_mirror/user/current/lib/python3.10/site-packages (from requests) (2023.7.22)\n",
      "Requirement already satisfied: idna<4,>=2.5 in /workspace/.pyenv_mirror/user/current/lib/python3.10/site-packages (from requests) (3.4)\n",
      "Note: you may need to restart the kernel to use updated packages.\n"
     ]
    }
   ],
   "source": [
    "%pip install beautifulsoup4\n",
    "%pip install requests"
   ]
  },
  {
   "cell_type": "code",
   "execution_count": 2,
   "metadata": {},
   "outputs": [],
   "source": [
    "search_keyword = \"covid-9\"\n",
    "site_home_url = \"https://www.ncbi.nlm.nih.gov\"\n",
    "search_url = f\"{site_home_url}/pmc/?term={search_keyword}\""
   ]
  },
  {
   "cell_type": "code",
   "execution_count": 100,
   "metadata": {},
   "outputs": [],
   "source": [
    "\n",
    "def build_pay_load(search_keyword, page):\n",
    "    return f\"term={search_keyword}+&EntrezSystem2.PEntrez.PMC.Pmc_PageController.PreviousPageName=results&EntrezSystem2.PEntrez.PMC.Pmc_ResultsPanel.EmailTab.EmailReport=&EntrezSystem2.PEntrez.PMC.Pmc_ResultsPanel.EmailTab.EmailFormat=&EntrezSystem2.PEntrez.PMC.Pmc_ResultsPanel.EmailTab.EmailCount=&EntrezSystem2.PEntrez.PMC.Pmc_ResultsPanel.EmailTab.EmailStart=&EntrezSystem2.PEntrez.PMC.Pmc_ResultsPanel.EmailTab.EmailSort=&EntrezSystem2.PEntrez.PMC.Pmc_ResultsPanel.EmailTab.Email=&EntrezSystem2.PEntrez.PMC.Pmc_ResultsPanel.EmailTab.EmailSubject=&EntrezSystem2.PEntrez.PMC.Pmc_ResultsPanel.EmailTab.EmailText=&EntrezSystem2.PEntrez.PMC.Pmc_ResultsPanel.EmailTab.EmailQueryKey=&EntrezSystem2.PEntrez.PMC.Pmc_ResultsPanel.EmailTab.EmailHID=1B_OHR13jOFsZ4LmOW4WWPNCF_VG3utRSska0Uxwwm&EntrezSystem2.PEntrez.PMC.Pmc_ResultsPanel.EmailTab.QueryDescription=&EntrezSystem2.PEntrez.PMC.Pmc_ResultsPanel.EmailTab.Key=&EntrezSystem2.PEntrez.PMC.Pmc_ResultsPanel.EmailTab.Answer=&EntrezSystem2.PEntrez.PMC.Pmc_ResultsPanel.EmailTab.Holding=&EntrezSystem2.PEntrez.PMC.Pmc_ResultsPanel.EmailTab.HoldingFft=&EntrezSystem2.PEntrez.PMC.Pmc_ResultsPanel.EmailTab.HoldingNdiSet=&EntrezSystem2.PEntrez.PMC.Pmc_ResultsPanel.EmailTab.OToolValue=&EntrezSystem2.PEntrez.PMC.Pmc_ResultsPanel.EmailTab.SubjectList=&EntrezSystem2.PEntrez.PMC.Facets.FacetsUrlFrag=filters%3D&EntrezSystem2.PEntrez.PMC.Facets.FacetSubmitted=false&EntrezSystem2.PEntrez.PMC.Facets.BMFacets=&EntrezSystem2.PEntrez.PMC.Pmc_ResultsPanel.Pmc_DisplayBar.sPresentation=DocSum&EntrezSystem2.PEntrez.PMC.Pmc_ResultsPanel.Pmc_DisplayBar.sPageSize=20&EntrezSystem2.PEntrez.PMC.Pmc_ResultsPanel.Pmc_DisplayBar.sSort=none&EntrezSystem2.PEntrez.PMC.Pmc_ResultsPanel.Pmc_DisplayBar.FFormat=DocSum&EntrezSystem2.PEntrez.PMC.Pmc_ResultsPanel.Pmc_DisplayBar.FSort=&email_format=DocSum&email_sort=&email_count=20&email_start=1&email_address=&EntrezSystem2.PEntrez.PMC.Pmc_ResultsPanel.Pmc_DisplayBar.FileFormat=docsum&EntrezSystem2.PEntrez.PMC.Pmc_ResultsPanel.Pmc_DisplayBar.LastPresentation=docsum&EntrezSystem2.PEntrez.PMC.Pmc_ResultsPanel.Pmc_DisplayBar.Presentation=docsum&EntrezSystem2.PEntrez.PMC.Pmc_ResultsPanel.Pmc_DisplayBar.PageSize=20&EntrezSystem2.PEntrez.PMC.Pmc_ResultsPanel.Pmc_DisplayBar.LastPageSize=20&EntrezSystem2.PEntrez.PMC.Pmc_ResultsPanel.Pmc_DisplayBar.Sort=&EntrezSystem2.PEntrez.PMC.Pmc_ResultsPanel.Pmc_DisplayBar.LastSort=&EntrezSystem2.PEntrez.PMC.Pmc_ResultsPanel.Pmc_DisplayBar.FileSort=&EntrezSystem2.PEntrez.PMC.Pmc_ResultsPanel.Pmc_DisplayBar.Format=&EntrezSystem2.PEntrez.PMC.Pmc_ResultsPanel.Pmc_DisplayBar.LastFormat=&EntrezSystem2.PEntrez.PMC.Pmc_ResultsPanel.Pmc_ResultsSearchController.ResultCount=1092&EntrezSystem2.PEntrez.PMC.Pmc_ResultsPanel.Pmc_ResultsSearchController.RunLastQuery=&EntrezSystem2.PEntrez.PMC.Pmc_ResultsPanel.Entrez_Pager.cPage={page-1}&EntrezSystem2.PEntrez.PMC.Pmc_ResultsPanel.Entrez_Pager.CurrPage={page}&EntrezSystem2.PEntrez.PMC.Pmc_ResultsPanel.Entrez_Pager.cPage={page-1}&EntrezSystem2.PEntrez.PMC.Pmc_ResultsPanel.Pmc_DisplayBar.sPresentation2=DocSum&EntrezSystem2.PEntrez.PMC.Pmc_ResultsPanel.Pmc_DisplayBar.sPageSize2=20&EntrezSystem2.PEntrez.PMC.Pmc_ResultsPanel.Pmc_DisplayBar.sSort2=none&EntrezSystem2.PEntrez.PMC.Pmc_ResultsPanel.Pmc_DisplayBar.FFormat2=DocSum&EntrezSystem2.PEntrez.PMC.Pmc_ResultsPanel.Pmc_DisplayBar.FSort2=&email_format2=DocSum&email_sort2=&email_count2=20&email_start2=1&email_address2=&EntrezSystem2.PEntrez.PMC.Pmc_ResultsPanel.Pmc_FilterTab.CurrFilter=all&EntrezSystem2.PEntrez.PMC.Pmc_ResultsPanel.Pmc_FilterTab.LastFilter=all&EntrezSystem2.PEntrez.PMC.Pmc_ResultsPanel.Pmc_MultiItemSupl.Pmc_RelatedDataLinks.rdDatabase=rddbto&EntrezSystem2.PEntrez.PMC.Pmc_ResultsPanel.Pmc_MultiItemSupl.Pmc_RelatedDataLinks.DbName=pmc&EntrezSystem2.PEntrez.PMC.Pmc_ResultsPanel.Discovery_SearchDetails.SearchDetailsTerm={search_keyword}%5BAll+Fields%5D&EntrezSystem2.PEntrez.PMC.Pmc_ResultsPanel.HistoryDisplay.Cmd=PageChanged&EntrezSystem2.PEntrez.DbConnector.Db=pmc&EntrezSystem2.PEntrez.DbConnector.LastDb=pmc&EntrezSystem2.PEntrez.DbConnector.Term={search_keyword}&EntrezSystem2.PEntrez.DbConnector.LastTabCmd=&EntrezSystem2.PEntrez.DbConnector.LastQueryKey=1&EntrezSystem2.PEntrez.DbConnector.IdsFromResult=&EntrezSystem2.PEntrez.DbConnector.LastIdsFromResult=&EntrezSystem2.PEntrez.DbConnector.LinkName=&EntrezSystem2.PEntrez.DbConnector.LinkReadableName=&EntrezSystem2.PEntrez.DbConnector.LinkSrcDb=&EntrezSystem2.PEntrez.DbConnector.Cmd=PageChanged&EntrezSystem2.PEntrez.DbConnector.TabCmd=&EntrezSystem2.PEntrez.DbConnector.QueryKey=&p%24a=EntrezSystem2.PEntrez.PMC.Pmc_ResultsPanel.Entrez_Pager.Page&p%24l=EntrezSystem2&p%24st=pmc\""
   ]
  },
  {
   "cell_type": "markdown",
   "metadata": {},
   "source": []
  },
  {
   "cell_type": "code",
   "execution_count": 101,
   "metadata": {},
   "outputs": [],
   "source": [
    "# 헤더값중 cookie값은 다시 실행할때 값을 구해서 다시 설정해 주어야 한다.\n",
    "\n",
    "cookie_value = \"ncbi_sid=1143019E4F3EC343_4054SID; _gid=GA1.2.281233626.1696396981; pmc-frontend-csrftoken=qLRe5pSVOzYK4iVHEI2wG0qCnVPuBM4Yth34mafNwnxCccC0BiV1IcM6zGljAViD; cebs=1; _ce.s=v~43fafbaa20f623951c6e5298ce88e24bf992ced7~lcw~1696407124224~vpv~0~lcw~1696407124225; _ce.clock_event=1; _ce.clock_data=67%2C222.236.66.98%2C1%2C12cff7c401b241581c1f347ece73543d; entrezSort=pmc:none; cebsp_=4; WebEnv=1nQccUZd2zsNxRtZu-ClX8ymhgRRt8QleBUWZAukB9h5s%401143019E4F3EC343_4054SID; _ga=GA1.1.1774267393.1693708979; _gat_ncbiSg=1; _ga_DP2X732JSX=GS1.1.1696464346.5.1.1696466529.0.0.0; ncbi_pinger=N4IgDgTgpgbg+mAFgSwCYgFwgMIFEAc2AbACwDsAggKwCMAIrgAwBi2NjHnnJAQkYwGZiAOgC2cGvhAAaEAGMANsjkBrAHZQAHgBdMoRpnABDAObI1R7cgD2a6Ve0KocI2tQJTUCNIBG17drWotJyttpQatoh1grSAM6wEXChCjIgNIaiRuahkRFRuJHQAF7M1hCiaQIAnIY0RFQATI1kaSQGWPVE+ES1siQkhorK6lq6/VSGBv1EhgBmRgoJba1YRI2z/VJYAmQkfSD7hkZyVjBQ0mCecEpqKtIaOmlUHSCIAWBxGAD03wDuAOEajkPmQQIUoiByEQwhM1hg3zAojk3wA/OEKgBeUIwNAAWmqAGJnhksIVtCUAMoATzi4VEjWEAAVySVmQBZbDM5FwABKUDiAFcFNo4kzXFAFMJWVBinBxSYvMzPM9GoYAHJjAAEAD4QABfWSCtQKaxGVCPXQYUACATzRbLWQCQZYCmCqBVbYgKq1ToNRq2tqvLr4MiTfoukDG03my1tSadZ6zLADVqyKirdIBtJEUkgfACKSG+RBUS2OPWkBqrD5EpVQxIuRtQyoaxyIWVdOGHMttsdtKZ96iVKyL2NaYgX0gVBQBbC8bpPMZWQ0O2dRjVNUryMJIwQOSINL1Y4KEfpTMLJYeldey+OquvPCEUiUWgMFhsLhf3j8IREMQSFIsiNHmtayhgjYYK27aCqIGDqgA8uquBpM0hgAn8QIgmCJqQmo0KwvCqFTjQm4TgIwaMPg5FLmRVTVukjBUOGhxriAjDCDUnHPGx1RUJsIBUJG1SkQa+pAA=\"\n",
    "\n",
    "headers = {\n",
    "    \"authority\": \"www.ncbi.nlm.nih.gov\",\n",
    "    \"method\": \"POST\",\n",
    "    \"path\": \"/pmc\",\n",
    "    \"scheme\": \"https\",\n",
    "    \"Accept\": \"text/html,application/xhtml+xml,application/xml;q=0.9,image/avif,image/webp,image/apng,*/*;q=0.8,application/signed-exchange;v=b3;q=0.7\",\n",
    "    \"Accept-Encoding\": \"gzip, deflate, br\",\n",
    "    \"Accept-Language\": \"ko-KR,ko;q=0.9,en-US;q=0.8,en;q=0.7\",\n",
    "    \"cache-control\": \"max-age=0\",\n",
    "    \"Content-Length\": \"4611\",\n",
    "    \"content-type\": \"application/x-www-form-urlencoded\",\n",
    "    \"Cookie\": cookie_value,\n",
    "    \"Origin\": \"https://www.ncbi.nlm.nih.gov\",\n",
    "    \"Referer\": \"Referer\",\n",
    "    \"sec-ch-ua\": \"\\\"Chromium\\\";v=\\\"116\\\", \\\"Not)A;Brand\\\";v=\\\"24\\\", \\\"Google Chrome\\\";v=\\\"116\\\"\",\n",
    "    \"sec-ch-ua-mobile\": \"?0\",\n",
    "    \"sec-ch-ua-platform\": \"\\\"macOS\\\"\",\n",
    "    \"sec-fetch-dest\": \"document\",\n",
    "    \"sec-fetch-mode\": \"navigate\",\n",
    "    \"sec-fetch-site\": \"same-origin\",\n",
    "    \"sec-fetch-user\": \"?1\",\n",
    "    \"upgrade-insecure-requests\": \"1\",\n",
    "    \"User-Agent\": \"Mozilla/5.0 (Macintosh; Intel Mac OS X 10_15_7) AppleWebKit/537.36 (KHTML, like Gecko) Chrome/116.0.0.0 Safari/537.36\"\n",
    "  }"
   ]
  },
  {
   "cell_type": "code",
   "execution_count": 102,
   "metadata": {},
   "outputs": [
    {
     "name": "stdout",
     "output_type": "stream",
     "text": [
      "['https://www.ncbi.nlm.nih.gov/pmc/articles/PMC7546671/pdf/main.pdf', 'https://www.ncbi.nlm.nih.gov/pmc/articles/PMC9454376/pdf/cureus-0014-00000027815.pdf', 'https://www.ncbi.nlm.nih.gov/pmc/articles/PMC7441752/pdf/IEID_0_1777277.pdf', 'https://www.ncbi.nlm.nih.gov/pmc/articles/PMC8339539/pdf/main.pdf', 'https://www.ncbi.nlm.nih.gov/pmc/articles/PMC7441991/pdf/main.pdf', 'https://www.ncbi.nlm.nih.gov/pmc/articles/PMC9997418/pdf/mjiri-36-164.pdf', 'https://www.ncbi.nlm.nih.gov/pmc/articles/PMC8511597/pdf/cevr-10-290.pdf', 'https://www.ncbi.nlm.nih.gov/pmc/articles/PMC8415602/pdf/pone.0257109.pdf', 'https://www.ncbi.nlm.nih.gov/pmc/articles/PMC10201068/pdf/10.1177_00469580231173268.pdf', 'https://www.ncbi.nlm.nih.gov/pmc/articles/PMC7834332/pdf/main.pdf', 'https://www.ncbi.nlm.nih.gov/pmc/articles/PMC8755416/pdf/main.pdf', 'https://www.ncbi.nlm.nih.gov/pmc/articles/PMC9759821/pdf/main.pdf', 'https://www.ncbi.nlm.nih.gov/pmc/articles/PMC8155414/pdf/PJMS-37-890.pdf', 'https://www.ncbi.nlm.nih.gov/pmc/articles/PMC7668453/pdf/medi-99-e23198.pdf', 'https://www.ncbi.nlm.nih.gov/pmc/articles/PMC7353833/pdf/296_2020_Article_4629.pdf', 'https://www.ncbi.nlm.nih.gov/pmc/articles/PMC9481094/pdf/KHVI_18_2076523.pdf', 'https://www.ncbi.nlm.nih.gov/pmc/articles/PMC10126560/pdf/40429_2023_Article_480.pdf', 'https://www.ncbi.nlm.nih.gov/pmc/articles/PMC9946204/pdf/pone.0279032.pdf', 'https://www.ncbi.nlm.nih.gov/pmc/articles/PMC9846884/pdf/main.pdf']\n",
      "['https://www.ncbi.nlm.nih.gov/pmc/articles/PMC8994185/pdf/10489_2022_Article_3431.pdf', 'https://www.ncbi.nlm.nih.gov/pmc/articles/PMC7477599/pdf/main.pdf', 'https://www.ncbi.nlm.nih.gov/pmc/articles/PMC8340078/pdf/41419_2021_Article_4070.pdf', 'https://www.ncbi.nlm.nih.gov/pmc/articles/PMC7391437/pdf/10.1177_1076029620944497.pdf', 'https://www.ncbi.nlm.nih.gov/pmc/articles/PMC8720189/pdf/HBM-43-593.pdf', 'https://www.ncbi.nlm.nih.gov/pmc/articles/PMC8083685/pdf/jiab167.pdf', 'https://www.ncbi.nlm.nih.gov/pmc/articles/PMC9464584/pdf/main.pdf', 'https://www.ncbi.nlm.nih.gov/pmc/articles/PMC9351604/pdf/nihms-1820046.pdf', 'https://www.ncbi.nlm.nih.gov/pmc/articles/PMC7291981/pdf/main.pdf', 'https://www.ncbi.nlm.nih.gov/pmc/articles/PMC7722498/pdf/main.pdf', 'https://www.ncbi.nlm.nih.gov/pmc/articles/PMC9564458/pdf/ijerph-19-12883.pdf', 'https://www.ncbi.nlm.nih.gov/pmc/articles/PMC9186220/pdf/jtd-14-05-1478.pdf', 'https://www.ncbi.nlm.nih.gov/pmc/articles/PMC8865457/pdf/fmicb-12-833054.pdf', 'https://www.ncbi.nlm.nih.gov/pmc/articles/PMC10203859/pdf/10.1177_21676968231176109.pdf', 'https://www.ncbi.nlm.nih.gov/pmc/articles/PMC9611711/pdf/vaccines-10-01771.pdf', 'https://www.ncbi.nlm.nih.gov/pmc/articles/PMC8874671/pdf/life-12-00263.pdf', 'https://www.ncbi.nlm.nih.gov/pmc/articles/PMC10357298/pdf/bmjgh-2023-012709.pdf', 'https://www.ncbi.nlm.nih.gov/pmc/articles/PMC9985890/pdf/rmhp-16-317.pdf']\n"
     ]
    }
   ],
   "source": [
    "def get_pdf_urls(search_keyword, page):\n",
    "    pay_load = build_pay_load(search_keyword, page)\n",
    "    response = requests.post(search_url, data=pay_load, headers=headers)\n",
    "    soup = bs(response.text, \"html.parser\")\n",
    "\n",
    "    elements = soup.select('#maincontent > div > div:nth-child(5) > div')\n",
    "    # print(len(elements))\n",
    "    # print(elements[0])\n",
    "\n",
    "    pdf_urls = []\n",
    "\n",
    "    if len(elements)==0: return pdf_urls\n",
    "    \n",
    "    for element in elements:\n",
    "        pdf_path = element.findAll(\"a\")[3]['href']\n",
    "        pdf_url = f\"{site_home_url}{pdf_path}\"\n",
    "        if pdf_url.endswith(\"#\") or pdf_url.endswith(\"report=reader\") : continue\n",
    "        pdf_urls.append(pdf_url)\n",
    "\n",
    "    return pdf_urls\n",
    "\n",
    "print(get_pdf_urls(search_keyword=search_keyword, page=1))        \n",
    "print(get_pdf_urls(search_keyword=search_keyword, page=2))        \n",
    "\n",
    "\n"
   ]
  },
  {
   "cell_type": "code",
   "execution_count": 104,
   "metadata": {},
   "outputs": [
    {
     "name": "stdout",
     "output_type": "stream",
     "text": [
      "['https://www.ncbi.nlm.nih.gov/pmc/articles/PMC7546671/pdf/main.pdf', 'https://www.ncbi.nlm.nih.gov/pmc/articles/PMC9454376/pdf/cureus-0014-00000027815.pdf', 'https://www.ncbi.nlm.nih.gov/pmc/articles/PMC7441752/pdf/IEID_0_1777277.pdf', 'https://www.ncbi.nlm.nih.gov/pmc/articles/PMC8339539/pdf/main.pdf', 'https://www.ncbi.nlm.nih.gov/pmc/articles/PMC7441991/pdf/main.pdf', 'https://www.ncbi.nlm.nih.gov/pmc/articles/PMC9997418/pdf/mjiri-36-164.pdf', 'https://www.ncbi.nlm.nih.gov/pmc/articles/PMC8511597/pdf/cevr-10-290.pdf', 'https://www.ncbi.nlm.nih.gov/pmc/articles/PMC8415602/pdf/pone.0257109.pdf', 'https://www.ncbi.nlm.nih.gov/pmc/articles/PMC10201068/pdf/10.1177_00469580231173268.pdf', 'https://www.ncbi.nlm.nih.gov/pmc/articles/PMC7834332/pdf/main.pdf', 'https://www.ncbi.nlm.nih.gov/pmc/articles/PMC8755416/pdf/main.pdf', 'https://www.ncbi.nlm.nih.gov/pmc/articles/PMC9759821/pdf/main.pdf', 'https://www.ncbi.nlm.nih.gov/pmc/articles/PMC8155414/pdf/PJMS-37-890.pdf', 'https://www.ncbi.nlm.nih.gov/pmc/articles/PMC7668453/pdf/medi-99-e23198.pdf', 'https://www.ncbi.nlm.nih.gov/pmc/articles/PMC7353833/pdf/296_2020_Article_4629.pdf', 'https://www.ncbi.nlm.nih.gov/pmc/articles/PMC9481094/pdf/KHVI_18_2076523.pdf', 'https://www.ncbi.nlm.nih.gov/pmc/articles/PMC10126560/pdf/40429_2023_Article_480.pdf', 'https://www.ncbi.nlm.nih.gov/pmc/articles/PMC9946204/pdf/pone.0279032.pdf', 'https://www.ncbi.nlm.nih.gov/pmc/articles/PMC9846884/pdf/main.pdf']\n",
      "19\n",
      "['https://www.ncbi.nlm.nih.gov/pmc/articles/PMC8994185/pdf/10489_2022_Article_3431.pdf', 'https://www.ncbi.nlm.nih.gov/pmc/articles/PMC7477599/pdf/main.pdf', 'https://www.ncbi.nlm.nih.gov/pmc/articles/PMC8340078/pdf/41419_2021_Article_4070.pdf', 'https://www.ncbi.nlm.nih.gov/pmc/articles/PMC7391437/pdf/10.1177_1076029620944497.pdf', 'https://www.ncbi.nlm.nih.gov/pmc/articles/PMC8720189/pdf/HBM-43-593.pdf', 'https://www.ncbi.nlm.nih.gov/pmc/articles/PMC8083685/pdf/jiab167.pdf', 'https://www.ncbi.nlm.nih.gov/pmc/articles/PMC9464584/pdf/main.pdf', 'https://www.ncbi.nlm.nih.gov/pmc/articles/PMC9351604/pdf/nihms-1820046.pdf', 'https://www.ncbi.nlm.nih.gov/pmc/articles/PMC7291981/pdf/main.pdf', 'https://www.ncbi.nlm.nih.gov/pmc/articles/PMC7722498/pdf/main.pdf', 'https://www.ncbi.nlm.nih.gov/pmc/articles/PMC9564458/pdf/ijerph-19-12883.pdf', 'https://www.ncbi.nlm.nih.gov/pmc/articles/PMC9186220/pdf/jtd-14-05-1478.pdf', 'https://www.ncbi.nlm.nih.gov/pmc/articles/PMC8865457/pdf/fmicb-12-833054.pdf', 'https://www.ncbi.nlm.nih.gov/pmc/articles/PMC10203859/pdf/10.1177_21676968231176109.pdf', 'https://www.ncbi.nlm.nih.gov/pmc/articles/PMC9611711/pdf/vaccines-10-01771.pdf', 'https://www.ncbi.nlm.nih.gov/pmc/articles/PMC8874671/pdf/life-12-00263.pdf', 'https://www.ncbi.nlm.nih.gov/pmc/articles/PMC10357298/pdf/bmjgh-2023-012709.pdf', 'https://www.ncbi.nlm.nih.gov/pmc/articles/PMC9985890/pdf/rmhp-16-317.pdf']\n",
      "37\n",
      "37 pdf urls collected.\n"
     ]
    }
   ],
   "source": [
    "import requests\n",
    "import json\n",
    "from pprint import pprint\n",
    "from bs4 import BeautifulSoup as bs\n",
    "\n",
    "MAX_PAGE = 1000\n",
    "PAGE_SIZE = 5\n",
    "\n",
    "MAX_PAGE = 2\n",
    "pdf_urls = []\n",
    "\n",
    "for i in range(MAX_PAGE):\n",
    "    page = i+1\n",
    "    new_pdf_urls = get_pdf_urls(search_keyword, page)\n",
    "    print(new_pdf_urls)\n",
    "    if len(new_pdf_urls)==0: break\n",
    "    pdf_urls.extend(new_pdf_urls)\n",
    "    print(len(pdf_urls))\n",
    "    \n",
    "print(f\"{len(pdf_urls)} pdf urls collected.\")"
   ]
  },
  {
   "cell_type": "code",
   "execution_count": 208,
   "metadata": {},
   "outputs": [],
   "source": [
    "with open('pmc_pdf_file_urls.txt', 'w') as f:\n",
    "    for pdf_url in pdf_urls:\n",
    "        # write each item on a new line\n",
    "        f.write(\"%s\\n\" % pdf_url)"
   ]
  },
  {
   "cell_type": "code",
   "execution_count": 97,
   "metadata": {},
   "outputs": [],
   "source": [
    "pdf_download_header = {\n",
    "    \"accept\": \"text/html,application/xhtml+xml,application/xml;q=0.9,image/avif,image/webp,image/apng,*/*;q=0.8,application/signed-exchange;v=b3;q=0.7\",\n",
    "    \"accept-language\": \"ko-KR,ko;q=0.9,en-US;q=0.8,en;q=0.7\",\n",
    "    \"cache-control\": \"max-age=0\",\n",
    "    \"if-none-match\": \"7546671-207093166-20201016104803\",\n",
    "    \"sec-ch-ua\": \"\\\"Chromium\\\";v=\\\"116\\\", \\\"Not)A;Brand\\\";v=\\\"24\\\", \\\"Google Chrome\\\";v=\\\"116\\\"\",\n",
    "    \"sec-ch-ua-mobile\": \"?0\",\n",
    "    \"sec-ch-ua-platform\": \"\\\"macOS\\\"\",\n",
    "    \"sec-fetch-dest\": \"document\",\n",
    "    \"sec-fetch-mode\": \"navigate\",\n",
    "    \"sec-fetch-site\": \"none\",\n",
    "    \"sec-fetch-user\": \"?1\",\n",
    "    \"upgrade-insecure-requests\": \"1\",\n",
    "    \"User-Agent\": \"Mozilla/5.0 (Macintosh; Intel Mac OS X 10_15_7) AppleWebKit/537.36 (KHTML, like Gecko) Chrome/116.0.0.0 Safari/537.36\"\n",
    "  }\n"
   ]
  },
  {
   "cell_type": "code",
   "execution_count": 98,
   "metadata": {},
   "outputs": [
    {
     "name": "stdout",
     "output_type": "stream",
     "text": [
      "https://www.ncbi.nlm.nih.gov/pmc/articles/PMC7546671/pdf/main.pdf\n"
     ]
    }
   ],
   "source": [
    "save_path = \"data/pmc/\"\n",
    "def download_pdf(pdf_url):\n",
    "    print(pdf_url)\n",
    "    response = requests.get(pdf_url, headers=pdf_download_header)\n",
    "    pdf_id = pdf_url.split(\"/\")[5]\n",
    "    file_path = f\"{save_path}{pdf_id}.pdf\"\n",
    "    with open(file_path, \"wb\") as f:\n",
    "        f.write(response.content)\n",
    "\n",
    "download_pdf(pdf_urls[0])"
   ]
  },
  {
   "cell_type": "code",
   "execution_count": null,
   "metadata": {},
   "outputs": [],
   "source": [
    "for pdf_url in pdf_urls:\n",
    "    download_pdf(pdf_url)\n"
   ]
  },
  {
   "cell_type": "code",
   "execution_count": null,
   "metadata": {},
   "outputs": [],
   "source": []
  },
  {
   "cell_type": "code",
   "execution_count": null,
   "metadata": {},
   "outputs": [],
   "source": []
  },
  {
   "cell_type": "code",
   "execution_count": null,
   "metadata": {},
   "outputs": [],
   "source": []
  },
  {
   "cell_type": "code",
   "execution_count": null,
   "metadata": {},
   "outputs": [],
   "source": []
  },
  {
   "cell_type": "code",
   "execution_count": null,
   "metadata": {},
   "outputs": [],
   "source": []
  },
  {
   "cell_type": "code",
   "execution_count": null,
   "metadata": {},
   "outputs": [],
   "source": []
  },
  {
   "cell_type": "code",
   "execution_count": null,
   "metadata": {},
   "outputs": [],
   "source": []
  }
 ],
 "metadata": {
  "kernelspec": {
   "display_name": "Python 3",
   "language": "python",
   "name": "python3"
  },
  "language_info": {
   "codemirror_mode": {
    "name": "ipython",
    "version": 3
   },
   "file_extension": ".py",
   "mimetype": "text/x-python",
   "name": "python",
   "nbconvert_exporter": "python",
   "pygments_lexer": "ipython3",
   "version": "3.10.12"
  },
  "orig_nbformat": 4
 },
 "nbformat": 4,
 "nbformat_minor": 2
}
