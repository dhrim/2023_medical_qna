{
 "cells": [
  {
   "cell_type": "code",
   "execution_count": 2,
   "metadata": {},
   "outputs": [
    {
     "name": "stdout",
     "output_type": "stream",
     "text": [
      "Defaulting to user installation because normal site-packages is not writeable\n",
      "Requirement already satisfied: beautifulsoup4 in /workspace/.pyenv_mirror/user/current/lib/python3.10/site-packages (4.12.2)\n",
      "Requirement already satisfied: soupsieve>1.2 in /workspace/.pyenv_mirror/user/current/lib/python3.10/site-packages (from beautifulsoup4) (2.5)\n",
      "Note: you may need to restart the kernel to use updated packages.\n",
      "Defaulting to user installation because normal site-packages is not writeable\n",
      "Requirement already satisfied: requests in /workspace/.pyenv_mirror/user/current/lib/python3.10/site-packages (2.31.0)\n",
      "Requirement already satisfied: charset-normalizer<4,>=2 in /workspace/.pyenv_mirror/user/current/lib/python3.10/site-packages (from requests) (3.3.2)\n",
      "Requirement already satisfied: idna<4,>=2.5 in /workspace/.pyenv_mirror/user/current/lib/python3.10/site-packages (from requests) (3.6)\n",
      "Requirement already satisfied: certifi>=2017.4.17 in /workspace/.pyenv_mirror/user/current/lib/python3.10/site-packages (from requests) (2023.11.17)\n",
      "Requirement already satisfied: urllib3<3,>=1.21.1 in /workspace/.pyenv_mirror/user/current/lib/python3.10/site-packages (from requests) (2.1.0)\n",
      "Note: you may need to restart the kernel to use updated packages.\n"
     ]
    }
   ],
   "source": [
    "%pip install beautifulsoup4\n",
    "%pip install requests"
   ]
  },
  {
   "cell_type": "code",
   "execution_count": 3,
   "metadata": {},
   "outputs": [
    {
     "name": "stdout",
     "output_type": "stream",
     "text": [
      "Defaulting to user installation because normal site-packages is not writeable\n",
      "Requirement already satisfied: tqdm in /workspace/.pyenv_mirror/user/current/lib/python3.10/site-packages (4.66.1)\n",
      "Note: you may need to restart the kernel to use updated packages.\n"
     ]
    }
   ],
   "source": [
    "%pip install tqdm"
   ]
  },
  {
   "cell_type": "code",
   "execution_count": 17,
   "metadata": {},
   "outputs": [],
   "source": [
    "search_keyword = \"covid-9\"\n",
    "site_home_url = \"https://www.ncbi.nlm.nih.gov\"\n",
    "search_url = f\"{site_home_url}/pmc/?term={search_keyword}\""
   ]
  },
  {
   "cell_type": "code",
   "execution_count": 18,
   "metadata": {},
   "outputs": [
    {
     "name": "stdout",
     "output_type": "stream",
     "text": [
      "term=parasite%5BMeSH+Major+Topic%5D+OR+parasitic+diseases%5BMeSH+Major+Topic%5D+OR+Parasitology%5BMeSH+Subheading%5D+OR+parasitic+diseases+&EntrezSystem2.PEntrez.PMC.Pmc_PageController.PreviousPageName=results&EntrezSystem2.PEntrez.PMC.Pmc_ResultsPanel.EmailTab.EmailReport=&EntrezSystem2.PEntrez.PMC.Pmc_ResultsPanel.EmailTab.EmailFormat=&EntrezSystem2.PEntrez.PMC.Pmc_ResultsPanel.EmailTab.EmailCount=&EntrezSystem2.PEntrez.PMC.Pmc_ResultsPanel.EmailTab.EmailStart=&EntrezSystem2.PEntrez.PMC.Pmc_ResultsPanel.EmailTab.EmailSort=&EntrezSystem2.PEntrez.PMC.Pmc_ResultsPanel.EmailTab.Email=&EntrezSystem2.PEntrez.PMC.Pmc_ResultsPanel.EmailTab.EmailSubject=&EntrezSystem2.PEntrez.PMC.Pmc_ResultsPanel.EmailTab.EmailText=&EntrezSystem2.PEntrez.PMC.Pmc_ResultsPanel.EmailTab.EmailQueryKey=&EntrezSystem2.PEntrez.PMC.Pmc_ResultsPanel.EmailTab.EmailHID=18E9VFnPec5nkkbYo5refk0Y8kX8ELH7tl4bAKSYwj&EntrezSystem2.PEntrez.PMC.Pmc_ResultsPanel.EmailTab.QueryDescription=&EntrezSystem2.PEntrez.PMC.Pmc_ResultsPanel.EmailTab.Key=&EntrezSystem2.PEntrez.PMC.Pmc_ResultsPanel.EmailTab.Answer=&EntrezSystem2.PEntrez.PMC.Pmc_ResultsPanel.EmailTab.Holding=&EntrezSystem2.PEntrez.PMC.Pmc_ResultsPanel.EmailTab.HoldingFft=&EntrezSystem2.PEntrez.PMC.Pmc_ResultsPanel.EmailTab.HoldingNdiSet=&EntrezSystem2.PEntrez.PMC.Pmc_ResultsPanel.EmailTab.OToolValue=&EntrezSystem2.PEntrez.PMC.Pmc_ResultsPanel.EmailTab.SubjectList=&EntrezSystem2.PEntrez.PMC.Facets.FacetsUrlFrag=filters%3D&EntrezSystem2.PEntrez.PMC.Facets.FacetSubmitted=false&EntrezSystem2.PEntrez.PMC.Facets.BMFacets=&EntrezSystem2.PEntrez.PMC.Pmc_ResultsPanel.Pmc_DisplayBar.sPresentation=DocSum&EntrezSystem2.PEntrez.PMC.Pmc_ResultsPanel.Pmc_DisplayBar.sPageSize=100&EntrezSystem2.PEntrez.PMC.Pmc_ResultsPanel.Pmc_DisplayBar.sSort=none&EntrezSystem2.PEntrez.PMC.Pmc_ResultsPanel.Pmc_DisplayBar.FFormat=DocSum&EntrezSystem2.PEntrez.PMC.Pmc_ResultsPanel.Pmc_DisplayBar.FSort=&email_format=DocSum&email_sort=&email_count=100&email_start=1&email_address=&EntrezSystem2.PEntrez.PMC.Pmc_ResultsPanel.Pmc_DisplayBar.FileFormat=docsum&EntrezSystem2.PEntrez.PMC.Pmc_ResultsPanel.Pmc_DisplayBar.LastPresentation=docsum&EntrezSystem2.PEntrez.PMC.Pmc_ResultsPanel.Pmc_DisplayBar.Presentation=docsum&EntrezSystem2.PEntrez.PMC.Pmc_ResultsPanel.Pmc_DisplayBar.PageSize=100&EntrezSystem2.PEntrez.PMC.Pmc_ResultsPanel.Pmc_DisplayBar.LastPageSize=100&EntrezSystem2.PEntrez.PMC.Pmc_ResultsPanel.Pmc_DisplayBar.Sort=&EntrezSystem2.PEntrez.PMC.Pmc_ResultsPanel.Pmc_DisplayBar.LastSort=&EntrezSystem2.PEntrez.PMC.Pmc_ResultsPanel.Pmc_DisplayBar.FileSort=&EntrezSystem2.PEntrez.PMC.Pmc_ResultsPanel.Pmc_DisplayBar.Format=&EntrezSystem2.PEntrez.PMC.Pmc_ResultsPanel.Pmc_DisplayBar.LastFormat=&EntrezSystem2.PEntrez.PMC.Pmc_ResultsPanel.Pmc_ResultsSearchController.ResultCount=165153&EntrezSystem2.PEntrez.PMC.Pmc_ResultsPanel.Pmc_ResultsSearchController.RunLastQuery=&EntrezSystem2.PEntrez.PMC.Pmc_ResultsPanel.Entrez_Pager.cPage=1&EntrezSystem2.PEntrez.PMC.Pmc_ResultsPanel.Entrez_Pager.CurrPage=2&EntrezSystem2.PEntrez.PMC.Pmc_ResultsPanel.Entrez_Pager.cPage=2&EntrezSystem2.PEntrez.PMC.Pmc_ResultsPanel.Pmc_DisplayBar.sPresentation2=DocSum&EntrezSystem2.PEntrez.PMC.Pmc_ResultsPanel.Pmc_DisplayBar.sPageSize2=100&EntrezSystem2.PEntrez.PMC.Pmc_ResultsPanel.Pmc_DisplayBar.sSort2=none&EntrezSystem2.PEntrez.PMC.Pmc_ResultsPanel.Pmc_DisplayBar.FFormat2=DocSum&EntrezSystem2.PEntrez.PMC.Pmc_ResultsPanel.Pmc_DisplayBar.FSort2=&email_format2=DocSum&email_sort2=&email_count2=100&email_start2=1&email_address2=&EntrezSystem2.PEntrez.PMC.Pmc_ResultsPanel.Pmc_FilterTab.CurrFilter=all&EntrezSystem2.PEntrez.PMC.Pmc_ResultsPanel.Pmc_FilterTab.LastFilter=all&EntrezSystem2.PEntrez.PMC.Pmc_ResultsPanel.Pmc_MultiItemSupl.Pmc_RelatedDataLinks.rdDatabase=rddbto&EntrezSystem2.PEntrez.PMC.Pmc_ResultsPanel.Pmc_MultiItemSupl.Pmc_RelatedDataLinks.DbName=pmc&EntrezSystem2.PEntrez.PMC.Pmc_ResultsPanel.Discovery_SearchDetails.SearchDetailsTerm=%22parasites%22%5BMeSH+Major+Topic%5D+OR+%22parasitic+diseases%22%5BMeSH+Major+Topic%5D+OR+%22parasitology%22%5BSubheading%5D+OR+%28%22parasitic+diseases%22%5BMeSH+Terms%5D+OR+%28%22parasitic%22%5BAll+Fields%5D+AND+%22diseases%22%5BAll+Fields%5D%29+OR+%22parasitic+diseases%22%5BAll+Fields%5D%29&EntrezSystem2.PEntrez.PMC.Pmc_ResultsPanel.HistoryDisplay.Cmd=PageChanged&EntrezSystem2.PEntrez.DbConnector.Db=pmc&EntrezSystem2.PEntrez.DbConnector.LastDb=pmc&EntrezSystem2.PEntrez.DbConnector.Term=parasite%5BMeSH+Major+Topic%5D+OR+parasitic+diseases%5BMeSH+Major+Topic%5D+OR+Parasitology%5BMeSH+Subheading%5D+OR+parasitic+diseases&EntrezSystem2.PEntrez.DbConnector.LastTabCmd=&EntrezSystem2.PEntrez.DbConnector.LastQueryKey=1&EntrezSystem2.PEntrez.DbConnector.IdsFromResult=&EntrezSystem2.PEntrez.DbConnector.LastIdsFromResult=&EntrezSystem2.PEntrez.DbConnector.LinkName=&EntrezSystem2.PEntrez.DbConnector.LinkReadableName=&EntrezSystem2.PEntrez.DbConnector.LinkSrcDb=&EntrezSystem2.PEntrez.DbConnector.Cmd=PageChanged&EntrezSystem2.PEntrez.DbConnector.TabCmd=&EntrezSystem2.PEntrez.DbConnector.QueryKey=&p%24a=EntrezSystem2.PEntrez.PMC.Pmc_ResultsPanel.Entrez_Pager.cPage&p%24l=EntrezSystem2&p%24st=pmc\n"
     ]
    }
   ],
   "source": [
    "RESULT_COUNT = 165153\n",
    "EMAIL_HID = \"18E9VFnPec5nkkbYo5refk0Y8kX8ELH7tl4bAKSYwj\" # 이 값도 메번 바귄다. \n",
    "\n",
    "\n",
    "# payload만들때 특이하게 인코딩 한다. 맞추어 주자.\n",
    "def encode(source) :\n",
    "    return source.replace(\"[\", \"%5B\").replace(\" \", \"+\").replace(\"]\", \"%5D\").replace(\"\\\"\", \"%22\").replace(\"(\", \"%28\").replace(\")\", \"%29\")\n",
    "\n",
    "\n",
    "def build_pay_load(search_keyword, search_detail, page, page_size=20):\n",
    "\n",
    "    return f'term={encode(search_keyword)}+&EntrezSystem2.PEntrez.PMC.Pmc_PageController.PreviousPageName=results&EntrezSystem2.PEntrez.PMC.Pmc_ResultsPanel.EmailTab.EmailReport=&EntrezSystem2.PEntrez.PMC.Pmc_ResultsPanel.EmailTab.EmailFormat=&EntrezSystem2.PEntrez.PMC.Pmc_ResultsPanel.EmailTab.EmailCount=&EntrezSystem2.PEntrez.PMC.Pmc_ResultsPanel.EmailTab.EmailStart=&EntrezSystem2.PEntrez.PMC.Pmc_ResultsPanel.EmailTab.EmailSort=&EntrezSystem2.PEntrez.PMC.Pmc_ResultsPanel.EmailTab.Email=&EntrezSystem2.PEntrez.PMC.Pmc_ResultsPanel.EmailTab.EmailSubject=&EntrezSystem2.PEntrez.PMC.Pmc_ResultsPanel.EmailTab.EmailText=&EntrezSystem2.PEntrez.PMC.Pmc_ResultsPanel.EmailTab.EmailQueryKey=&EntrezSystem2.PEntrez.PMC.Pmc_ResultsPanel.EmailTab.EmailHID={EMAIL_HID}&EntrezSystem2.PEntrez.PMC.Pmc_ResultsPanel.EmailTab.QueryDescription=&EntrezSystem2.PEntrez.PMC.Pmc_ResultsPanel.EmailTab.Key=&EntrezSystem2.PEntrez.PMC.Pmc_ResultsPanel.EmailTab.Answer=&EntrezSystem2.PEntrez.PMC.Pmc_ResultsPanel.EmailTab.Holding=&EntrezSystem2.PEntrez.PMC.Pmc_ResultsPanel.EmailTab.HoldingFft=&EntrezSystem2.PEntrez.PMC.Pmc_ResultsPanel.EmailTab.HoldingNdiSet=&EntrezSystem2.PEntrez.PMC.Pmc_ResultsPanel.EmailTab.OToolValue=&EntrezSystem2.PEntrez.PMC.Pmc_ResultsPanel.EmailTab.SubjectList=&EntrezSystem2.PEntrez.PMC.Facets.FacetsUrlFrag=filters%3D&EntrezSystem2.PEntrez.PMC.Facets.FacetSubmitted=false&EntrezSystem2.PEntrez.PMC.Facets.BMFacets=&EntrezSystem2.PEntrez.PMC.Pmc_ResultsPanel.Pmc_DisplayBar.sPresentation=DocSum&EntrezSystem2.PEntrez.PMC.Pmc_ResultsPanel.Pmc_DisplayBar.sPageSize=100&EntrezSystem2.PEntrez.PMC.Pmc_ResultsPanel.Pmc_DisplayBar.sSort=none&EntrezSystem2.PEntrez.PMC.Pmc_ResultsPanel.Pmc_DisplayBar.FFormat=DocSum&EntrezSystem2.PEntrez.PMC.Pmc_ResultsPanel.Pmc_DisplayBar.FSort=&email_format=DocSum&email_sort=&email_count=100&email_start=1&email_address=&EntrezSystem2.PEntrez.PMC.Pmc_ResultsPanel.Pmc_DisplayBar.FileFormat=docsum&EntrezSystem2.PEntrez.PMC.Pmc_ResultsPanel.Pmc_DisplayBar.LastPresentation=docsum&EntrezSystem2.PEntrez.PMC.Pmc_ResultsPanel.Pmc_DisplayBar.Presentation=docsum&EntrezSystem2.PEntrez.PMC.Pmc_ResultsPanel.Pmc_DisplayBar.PageSize={page_size}&EntrezSystem2.PEntrez.PMC.Pmc_ResultsPanel.Pmc_DisplayBar.LastPageSize={page_size}&EntrezSystem2.PEntrez.PMC.Pmc_ResultsPanel.Pmc_DisplayBar.Sort=&EntrezSystem2.PEntrez.PMC.Pmc_ResultsPanel.Pmc_DisplayBar.LastSort=&EntrezSystem2.PEntrez.PMC.Pmc_ResultsPanel.Pmc_DisplayBar.FileSort=&EntrezSystem2.PEntrez.PMC.Pmc_ResultsPanel.Pmc_DisplayBar.Format=&EntrezSystem2.PEntrez.PMC.Pmc_ResultsPanel.Pmc_DisplayBar.LastFormat=&EntrezSystem2.PEntrez.PMC.Pmc_ResultsPanel.Pmc_ResultsSearchController.ResultCount={RESULT_COUNT}&EntrezSystem2.PEntrez.PMC.Pmc_ResultsPanel.Pmc_ResultsSearchController.RunLastQuery=&EntrezSystem2.PEntrez.PMC.Pmc_ResultsPanel.Entrez_Pager.cPage=1&EntrezSystem2.PEntrez.PMC.Pmc_ResultsPanel.Entrez_Pager.CurrPage={page}&EntrezSystem2.PEntrez.PMC.Pmc_ResultsPanel.Entrez_Pager.cPage={page}&EntrezSystem2.PEntrez.PMC.Pmc_ResultsPanel.Pmc_DisplayBar.sPresentation2=DocSum&EntrezSystem2.PEntrez.PMC.Pmc_ResultsPanel.Pmc_DisplayBar.sPageSize2={page_size}&EntrezSystem2.PEntrez.PMC.Pmc_ResultsPanel.Pmc_DisplayBar.sSort2=none&EntrezSystem2.PEntrez.PMC.Pmc_ResultsPanel.Pmc_DisplayBar.FFormat2=DocSum&EntrezSystem2.PEntrez.PMC.Pmc_ResultsPanel.Pmc_DisplayBar.FSort2=&email_format2=DocSum&email_sort2=&email_count2={page_size}&email_start2=1&email_address2=&EntrezSystem2.PEntrez.PMC.Pmc_ResultsPanel.Pmc_FilterTab.CurrFilter=all&EntrezSystem2.PEntrez.PMC.Pmc_ResultsPanel.Pmc_FilterTab.LastFilter=all&EntrezSystem2.PEntrez.PMC.Pmc_ResultsPanel.Pmc_MultiItemSupl.Pmc_RelatedDataLinks.rdDatabase=rddbto&EntrezSystem2.PEntrez.PMC.Pmc_ResultsPanel.Pmc_MultiItemSupl.Pmc_RelatedDataLinks.DbName=pmc&EntrezSystem2.PEntrez.PMC.Pmc_ResultsPanel.Discovery_SearchDetails.SearchDetailsTerm={encode(search_detail)}&EntrezSystem2.PEntrez.PMC.Pmc_ResultsPanel.HistoryDisplay.Cmd=PageChanged&EntrezSystem2.PEntrez.DbConnector.Db=pmc&EntrezSystem2.PEntrez.DbConnector.LastDb=pmc&EntrezSystem2.PEntrez.DbConnector.Term={encode(search_keyword)}&EntrezSystem2.PEntrez.DbConnector.LastTabCmd=&EntrezSystem2.PEntrez.DbConnector.LastQueryKey=1&EntrezSystem2.PEntrez.DbConnector.IdsFromResult=&EntrezSystem2.PEntrez.DbConnector.LastIdsFromResult=&EntrezSystem2.PEntrez.DbConnector.LinkName=&EntrezSystem2.PEntrez.DbConnector.LinkReadableName=&EntrezSystem2.PEntrez.DbConnector.LinkSrcDb=&EntrezSystem2.PEntrez.DbConnector.Cmd=PageChanged&EntrezSystem2.PEntrez.DbConnector.TabCmd=&EntrezSystem2.PEntrez.DbConnector.QueryKey=&p%24a=EntrezSystem2.PEntrez.PMC.Pmc_ResultsPanel.Entrez_Pager.cPage&p%24l=EntrezSystem2&p%24st=pmc'\n",
    "\n",
    "\n",
    "search_keyword = \"parasite[MeSH Major Topic] OR parasitic diseases[MeSH Major Topic] OR Parasitology[MeSH Subheading] OR parasitic diseases\"\n",
    "search_detail = '\"parasites\"[MeSH Major Topic] OR \"parasitic diseases\"[MeSH Major Topic] OR \"parasitology\"[Subheading] OR (\"parasitic diseases\"[MeSH Terms] OR (\"parasitic\"[All Fields] AND \"diseases\"[All Fields]) OR \"parasitic diseases\"[All Fields])'\n",
    "\n",
    "pay_load = build_pay_load(search_keyword, search_detail, 2, 100)\n",
    "print(pay_load)    "
   ]
  },
  {
   "cell_type": "markdown",
   "metadata": {},
   "source": []
  },
  {
   "cell_type": "code",
   "execution_count": 19,
   "metadata": {},
   "outputs": [],
   "source": [
    "org = \"term=parasite%5BMeSH+Major+Topic%5D+OR+parasitic+diseases%5BMeSH+Major+Topic%5D+OR+Parasitology%5BMeSH+Subheading%5D+OR+parasitic+diseases+&EntrezSystem2.PEntrez.PMC.Pmc_PageController.PreviousPageName=results&EntrezSystem2.PEntrez.PMC.Pmc_ResultsPanel.EmailTab.EmailReport=&EntrezSystem2.PEntrez.PMC.Pmc_ResultsPanel.EmailTab.EmailFormat=&EntrezSystem2.PEntrez.PMC.Pmc_ResultsPanel.EmailTab.EmailCount=&EntrezSystem2.PEntrez.PMC.Pmc_ResultsPanel.EmailTab.EmailStart=&EntrezSystem2.PEntrez.PMC.Pmc_ResultsPanel.EmailTab.EmailSort=&EntrezSystem2.PEntrez.PMC.Pmc_ResultsPanel.EmailTab.Email=&EntrezSystem2.PEntrez.PMC.Pmc_ResultsPanel.EmailTab.EmailSubject=&EntrezSystem2.PEntrez.PMC.Pmc_ResultsPanel.EmailTab.EmailText=&EntrezSystem2.PEntrez.PMC.Pmc_ResultsPanel.EmailTab.EmailQueryKey=&EntrezSystem2.PEntrez.PMC.Pmc_ResultsPanel.EmailTab.EmailHID=18E9VFnPec5nkkbYo5refk0Y8kX8ELH7tl4bAKSYwj&EntrezSystem2.PEntrez.PMC.Pmc_ResultsPanel.EmailTab.QueryDescription=&EntrezSystem2.PEntrez.PMC.Pmc_ResultsPanel.EmailTab.Key=&EntrezSystem2.PEntrez.PMC.Pmc_ResultsPanel.EmailTab.Answer=&EntrezSystem2.PEntrez.PMC.Pmc_ResultsPanel.EmailTab.Holding=&EntrezSystem2.PEntrez.PMC.Pmc_ResultsPanel.EmailTab.HoldingFft=&EntrezSystem2.PEntrez.PMC.Pmc_ResultsPanel.EmailTab.HoldingNdiSet=&EntrezSystem2.PEntrez.PMC.Pmc_ResultsPanel.EmailTab.OToolValue=&EntrezSystem2.PEntrez.PMC.Pmc_ResultsPanel.EmailTab.SubjectList=&EntrezSystem2.PEntrez.PMC.Facets.FacetsUrlFrag=filters%3D&EntrezSystem2.PEntrez.PMC.Facets.FacetSubmitted=false&EntrezSystem2.PEntrez.PMC.Facets.BMFacets=&EntrezSystem2.PEntrez.PMC.Pmc_ResultsPanel.Pmc_DisplayBar.sPresentation=DocSum&EntrezSystem2.PEntrez.PMC.Pmc_ResultsPanel.Pmc_DisplayBar.sPageSize=100&EntrezSystem2.PEntrez.PMC.Pmc_ResultsPanel.Pmc_DisplayBar.sSort=none&EntrezSystem2.PEntrez.PMC.Pmc_ResultsPanel.Pmc_DisplayBar.FFormat=DocSum&EntrezSystem2.PEntrez.PMC.Pmc_ResultsPanel.Pmc_DisplayBar.FSort=&email_format=DocSum&email_sort=&email_count=100&email_start=1&email_address=&EntrezSystem2.PEntrez.PMC.Pmc_ResultsPanel.Pmc_DisplayBar.FileFormat=docsum&EntrezSystem2.PEntrez.PMC.Pmc_ResultsPanel.Pmc_DisplayBar.LastPresentation=docsum&EntrezSystem2.PEntrez.PMC.Pmc_ResultsPanel.Pmc_DisplayBar.Presentation=docsum&EntrezSystem2.PEntrez.PMC.Pmc_ResultsPanel.Pmc_DisplayBar.PageSize=100&EntrezSystem2.PEntrez.PMC.Pmc_ResultsPanel.Pmc_DisplayBar.LastPageSize=100&EntrezSystem2.PEntrez.PMC.Pmc_ResultsPanel.Pmc_DisplayBar.Sort=&EntrezSystem2.PEntrez.PMC.Pmc_ResultsPanel.Pmc_DisplayBar.LastSort=&EntrezSystem2.PEntrez.PMC.Pmc_ResultsPanel.Pmc_DisplayBar.FileSort=&EntrezSystem2.PEntrez.PMC.Pmc_ResultsPanel.Pmc_DisplayBar.Format=&EntrezSystem2.PEntrez.PMC.Pmc_ResultsPanel.Pmc_DisplayBar.LastFormat=&EntrezSystem2.PEntrez.PMC.Pmc_ResultsPanel.Pmc_ResultsSearchController.ResultCount=165153&EntrezSystem2.PEntrez.PMC.Pmc_ResultsPanel.Pmc_ResultsSearchController.RunLastQuery=&EntrezSystem2.PEntrez.PMC.Pmc_ResultsPanel.Entrez_Pager.cPage=1&EntrezSystem2.PEntrez.PMC.Pmc_ResultsPanel.Entrez_Pager.CurrPage=2&EntrezSystem2.PEntrez.PMC.Pmc_ResultsPanel.Entrez_Pager.cPage=2&EntrezSystem2.PEntrez.PMC.Pmc_ResultsPanel.Pmc_DisplayBar.sPresentation2=DocSum&EntrezSystem2.PEntrez.PMC.Pmc_ResultsPanel.Pmc_DisplayBar.sPageSize2=100&EntrezSystem2.PEntrez.PMC.Pmc_ResultsPanel.Pmc_DisplayBar.sSort2=none&EntrezSystem2.PEntrez.PMC.Pmc_ResultsPanel.Pmc_DisplayBar.FFormat2=DocSum&EntrezSystem2.PEntrez.PMC.Pmc_ResultsPanel.Pmc_DisplayBar.FSort2=&email_format2=DocSum&email_sort2=&email_count2=100&email_start2=1&email_address2=&EntrezSystem2.PEntrez.PMC.Pmc_ResultsPanel.Pmc_FilterTab.CurrFilter=all&EntrezSystem2.PEntrez.PMC.Pmc_ResultsPanel.Pmc_FilterTab.LastFilter=all&EntrezSystem2.PEntrez.PMC.Pmc_ResultsPanel.Pmc_MultiItemSupl.Pmc_RelatedDataLinks.rdDatabase=rddbto&EntrezSystem2.PEntrez.PMC.Pmc_ResultsPanel.Pmc_MultiItemSupl.Pmc_RelatedDataLinks.DbName=pmc&EntrezSystem2.PEntrez.PMC.Pmc_ResultsPanel.Discovery_SearchDetails.SearchDetailsTerm=%22parasites%22%5BMeSH+Major+Topic%5D+OR+%22parasitic+diseases%22%5BMeSH+Major+Topic%5D+OR+%22parasitology%22%5BSubheading%5D+OR+%28%22parasitic+diseases%22%5BMeSH+Terms%5D+OR+%28%22parasitic%22%5BAll+Fields%5D+AND+%22diseases%22%5BAll+Fields%5D%29+OR+%22parasitic+diseases%22%5BAll+Fields%5D%29&EntrezSystem2.PEntrez.PMC.Pmc_ResultsPanel.HistoryDisplay.Cmd=PageChanged&EntrezSystem2.PEntrez.DbConnector.Db=pmc&EntrezSystem2.PEntrez.DbConnector.LastDb=pmc&EntrezSystem2.PEntrez.DbConnector.Term=parasite%5BMeSH+Major+Topic%5D+OR+parasitic+diseases%5BMeSH+Major+Topic%5D+OR+Parasitology%5BMeSH+Subheading%5D+OR+parasitic+diseases&EntrezSystem2.PEntrez.DbConnector.LastTabCmd=&EntrezSystem2.PEntrez.DbConnector.LastQueryKey=1&EntrezSystem2.PEntrez.DbConnector.IdsFromResult=&EntrezSystem2.PEntrez.DbConnector.LastIdsFromResult=&EntrezSystem2.PEntrez.DbConnector.LinkName=&EntrezSystem2.PEntrez.DbConnector.LinkReadableName=&EntrezSystem2.PEntrez.DbConnector.LinkSrcDb=&EntrezSystem2.PEntrez.DbConnector.Cmd=PageChanged&EntrezSystem2.PEntrez.DbConnector.TabCmd=&EntrezSystem2.PEntrez.DbConnector.QueryKey=&p%24a=EntrezSystem2.PEntrez.PMC.Pmc_ResultsPanel.Entrez_Pager.cPage&p%24l=EntrezSystem2&p%24st=pmc\"\n",
    "\n",
    "\n",
    "for i in range(len(pay_load)):\n",
    "    if pay_load[i] != org[i]:\n",
    "        print(i, org[max(0, i-30): min(len(pay_load)-1, i+20)], pay_load[max(0, i-30): min(len(pay_load)-1, i+20)])\n",
    "        break"
   ]
  },
  {
   "cell_type": "code",
   "execution_count": 20,
   "metadata": {},
   "outputs": [],
   "source": [
    "\n",
    "# 쿠키값은 호출 시 변경해 주어야 한다.\n",
    "# 크롬에서 https://www.ncbi.nlm.nih.gov/pmc/ ??? 호출하고,\n",
    "# 개발자도구에서 네크워크 > pmc/?term=covid-9 > 헤더  > 요청 해더 > Cookie 에서 값을 가져온다.\n",
    "# \n",
    "# 주의 !!!!!!!!!!!\n",
    "# 페이징 넘어갈때의 검색 키워드응 쿠키에 담긴다.\n",
    "# 제대로된 검색 키워드로 검색하고 그 때의 쿠키값으로 해야 한다.\n",
    "\n",
    "cookie_value = \"ncbi_sid=5A7BB73C57FFC033_10646SID; pmc-frontend-csrftoken=7HOhKYWE9ENW67LQ2jJ9emd01Z5MlXCJSWPMCRhqqs5Pcf7egAcyvAMRNU6C1gRO; _ce.irv=new; cebs=1; _gid=GA1.2.286315964.1703553265; cebsp_=2; _ce.s=v~faa299b8b93d6cfa095d499ff80732b6705ccb26~lcw~1703553601806~lva~1703553265047~vpv~0~v11.cs~156325~v11.s~1c0ae8d0-a38c-11ee-8384-51bdcf7d97ef~v11.sla~1703553602578~v11.send~1703553601806~lcw~1703553602578; entrezSort=pmc:; _gat_ncbiSg=1; WebEnv=12y_hio30Msf2e6bH5OqTZVwRUP35-c-SzJpMMtmG4Cke%405A7BB73C57FFC033_10646SID; _gat_dap=1; _ga_DP2X732JSX=GS1.1.1703640948.5.1.1703640952.0.0.0; _ga=GA1.1.170826765.1702891723; ncbi_pinger=N4IgDgTgpgbg+mAFgSwCYgFwgMIFEAcAQgKwCCATOcUQOzYAMAjI/a2+zea8QGIB0AWziNiIADQgArgDsANgHsAhqmlQAHgBdMocphBRpG6AC9xIAMx6wAgMZmALHtTybAZ0kCzorGYBsTl3dPCRo9RA0BWTN8PS4zAE4nKAAzRUlZLQlmPUYzRkssRl9iEUssxyxXKEUIG0Q8/yxFWSis0KxU2Sq8mI7m7ok4rDwiMkpqQjomFnZZzm5+IREzclysAyMoYwxrGwxnNw8MADkAeWPcFd0sAHc7vmkbACNkB9kBB+REPgBzeRgVolCvE4hJzPQcvR8BCwWsQIwQTCLNd4fRiKIwQUQEZJFAzOYKtiILj8b0QPigfD0fEkfYIcDWKEJPYsfQ+OZ4uyHISZAplKpNA5vCAkcQsTRzP4JMRCfh8EyQMRGhZ8I5pe0RX44YwJRCAL56oA\""
   ]
  },
  {
   "cell_type": "code",
   "execution_count": 21,
   "metadata": {},
   "outputs": [],
   "source": [
    "headers = {\n",
    "    \"authority\": \"www.ncbi.nlm.nih.gov\",\n",
    "    \"method\": \"POST\",\n",
    "    \"path\": \"/pmc\",\n",
    "    \"scheme\": \"https\",\n",
    "    \"Accept\": \"text/html,application/xhtml+xml,application/xml;q=0.9,image/avif,image/webp,image/apng,*/*;q=0.8,application/signed-exchange;v=b3;q=0.7\",\n",
    "    \"Accept-Encoding\": \"gzip, deflate, br\",\n",
    "    \"Accept-Language\": \"ko-KR,ko;q=0.9,en-US;q=0.8,en;q=0.7\",\n",
    "    \"cache-control\": \"max-age=0\",\n",
    "    \"Content-Length\": \"5145\",\n",
    "    \"content-type\": \"application/x-www-form-urlencoded\",\n",
    "    \"Cookie\": cookie_value,\n",
    "    \"Origin\": \"https://www.ncbi.nlm.nih.gov\",\n",
    "    \"Referer\": \"https://www.ncbi.nlm.nih.gov/pmc\",\n",
    "    \"sec-ch-ua\": \"\\\"Not_A Brand\\\";v=\\\"8\\\", \\\"Chromium\\\";v=\\\"120\\\", \\\"Google Chrome\\\";v=\\\"120\\\"\",\n",
    "    \"sec-ch-ua-mobile\": \"?0\",\n",
    "    \"sec-ch-ua-platform\": \"\\\"macOS\\\"\",\n",
    "    \"sec-fetch-dest\": \"document\",\n",
    "    \"sec-fetch-mode\": \"navigate\",\n",
    "    \"sec-fetch-site\": \"same-origin\",\n",
    "    \"sec-fetch-user\": \"?1\",\n",
    "    \"upgrade-insecure-requests\": \"1\",\n",
    "    \"User-Agent\": \"Mozilla/5.0 (Macintosh; Intel Mac OS X 10_15_7) AppleWebKit/537.36 (KHTML, like Gecko) Chrome/116.0.0.0 Safari/537.36\"\n",
    "  }"
   ]
  },
  {
   "cell_type": "code",
   "execution_count": null,
   "metadata": {},
   "outputs": [],
   "source": []
  },
  {
   "cell_type": "code",
   "execution_count": 22,
   "metadata": {},
   "outputs": [
    {
     "name": "stdout",
     "output_type": "stream",
     "text": [
      "[]\n",
      "[]\n"
     ]
    }
   ],
   "source": [
    "import requests\n",
    "from bs4 import BeautifulSoup as bs\n",
    "\n",
    "def get_pdf_urls(search_keyword, search_detail, page, page_size, debug=True):\n",
    "    pay_load = build_pay_load(search_keyword, search_detail, page, page_size)\n",
    "    response = requests.post(search_url, data=pay_load, headers=headers)\n",
    "    # print(response.text)\n",
    "    # print(response.headers)\n",
    "    # print(f\"Cooke Value\\n{response.headers['Set-Cookie']}\")\n",
    "    soup = bs(response.text, \"html.parser\")\n",
    "\n",
    "    elements = soup.select('#maincontent > div > div:nth-child(5) > div')\n",
    "    # print(len(elements))\n",
    "    # print(elements[0])\n",
    "\n",
    "    pdf_urls = []\n",
    "\n",
    "    if len(elements)==0: return pdf_urls\n",
    "    \n",
    "    if debug : print(f\"{elements[0].findAll('a')[0].text}\")\n",
    "    for element in elements:\n",
    "        anchor_elements = element.findAll('a')\n",
    "        if len(anchor_elements)!=5: continue # 4개의 링크가 있어야 정상이다. Title + Article, PubReader, PDF, Cite\n",
    "        pdf_path = anchor_elements[3]['href']\n",
    "        pdf_url = f\"{site_home_url}{pdf_path}\"\n",
    "        if pdf_url.endswith(\"#\") or pdf_url.endswith(\"report=reader\") : continue\n",
    "        pdf_urls.append(pdf_url)\n",
    "\n",
    "    return pdf_urls\n",
    "\n",
    "\n",
    "search_keyword = \"parasite[MeSH Major Topic] OR parasitic diseases[MeSH Major Topic] OR Parasitology[MeSH Subheading] OR parasitic diseases\"\n",
    "\n",
    "# 요 값은 만들려 하지 말고, 웹사이트에서 'Search detail'에 search_keyword 입력하여 서치하고 개발자도구에서 '페이로드'의 값으로 카피해 온다.\n",
    "search_detail = '\"parasites\"[MeSH Major Topic] OR \"parasitic diseases\"[MeSH Major Topic] OR \"parasitology\"[Subheading] OR (\"parasitic diseases\"[MeSH Terms] OR (\"parasitic\"[All Fields] AND \"diseases\"[All Fields]) OR \"parasitic diseases\"[All Fields])'\n",
    "\n",
    "print(get_pdf_urls(search_keyword, search_detail, 1, 20))\n",
    "print(get_pdf_urls(search_keyword, search_detail, 2, 20))\n",
    "\n",
    "\n",
    "# response.text에서 결과 찾을 키워드 : \"messagearea_bottom\"\n"
   ]
  },
  {
   "cell_type": "code",
   "execution_count": 23,
   "metadata": {},
   "outputs": [
    {
     "name": "stderr",
     "output_type": "stream",
     "text": [
      "/workspace/.pyenv_mirror/user/current/lib/python3.10/site-packages/tqdm/auto.py:21: TqdmWarning: IProgress not found. Please update jupyter and ipywidgets. See https://ipywidgets.readthedocs.io/en/stable/user_install.html\n",
      "  from .autonotebook import tqdm as notebook_tqdm\n"
     ]
    }
   ],
   "source": [
    "from tqdm.auto import tqdm"
   ]
  },
  {
   "cell_type": "code",
   "execution_count": 51,
   "metadata": {},
   "outputs": [
    {
     "name": "stderr",
     "output_type": "stream",
     "text": [
      "100%|██████████| 2/2 [00:01<00:00,  1.02it/s]\n"
     ]
    }
   ],
   "source": [
    "\n",
    "pdf_urls = []\n",
    "\n",
    "def get_all_pdf_urls(search_keyword, search_detail, last_page, page_size, debug=False):\n",
    "    \n",
    "    global pdf_urls\n",
    "\n",
    "    for i in tqdm(range(last_page)):\n",
    "        page = i+1\n",
    "        new_pdf_urls = get_pdf_urls(search_keyword, search_detail, page, page_size, debug)\n",
    "        if debug : print(new_pdf_urls)\n",
    "        pdf_urls.extend(new_pdf_urls)\n",
    "        # print(f\"page {page}, pdf count : {len(new_pdf_urls)}, total pdf count = {len(pdf_urls)}\")   \n",
    "    return pdf_urls \n",
    "\n",
    "pdf_urls = get_all_pdf_urls(search_keyword, search_detail, last_page=2, page_size=20, debug=False)"
   ]
  },
  {
   "cell_type": "code",
   "execution_count": 52,
   "metadata": {},
   "outputs": [
    {
     "name": "stderr",
     "output_type": "stream",
     "text": [
      "100%|██████████| 1652/1652 [34:52<00:00,  1.27s/it] \n"
     ]
    }
   ],
   "source": [
    "search_keyword = \"parasite[MeSH Major Topic] OR parasitic diseases[MeSH Major Topic] OR Parasitology[MeSH Subheading] OR parasitic diseases\"\n",
    "\n",
    "# 요 값은 만들려 하지 말고, 웹사이트에서 'Search detail'에 search_keyword 입력하여 서치하고 개발자도구에서 '페이로드'의 값으로 카피해 온다.\n",
    "search_detail = '\"parasites\"[MeSH Major Topic] OR \"parasitic diseases\"[MeSH Major Topic] OR \"parasitology\"[Subheading] OR (\"parasitic diseases\"[MeSH Terms] OR (\"parasitic\"[All Fields] AND \"diseases\"[All Fields]) OR \"parasitic diseases\"[All Fields])'\n",
    "\n",
    "# 요 값은 눈으로 보고 설정한다.\n",
    "LAST_PAGE = 1652\n",
    "pdf_urls = get_all_pdf_urls(search_keyword, search_detail, last_page=LAST_PAGE, page_size=100, debug=False)"
   ]
  },
  {
   "cell_type": "code",
   "execution_count": 24,
   "metadata": {},
   "outputs": [
    {
     "name": "stdout",
     "output_type": "stream",
     "text": [
      "91204\n"
     ]
    }
   ],
   "source": [
    "print(len(pdf_urls))"
   ]
  },
  {
   "cell_type": "code",
   "execution_count": 54,
   "metadata": {},
   "outputs": [],
   "source": [
    "with open('pmc_pdf_file_urls.txt', 'w') as f:\n",
    "    for pdf_url in pdf_urls:\n",
    "        # write each item on a new line\n",
    "        f.write(\"%s\\n\" % pdf_url)"
   ]
  },
  {
   "cell_type": "code",
   "execution_count": 25,
   "metadata": {},
   "outputs": [
    {
     "name": "stdout",
     "output_type": "stream",
     "text": [
      "91204\n"
     ]
    }
   ],
   "source": [
    "with open('pmc_pdf_file_urls.txt', 'r') as f:\n",
    "    raw_text = f.read()\n",
    "\n",
    "pdf_urls = raw_text.split(\"\\n\")\n",
    "print(len(pdf_urls))"
   ]
  },
  {
   "cell_type": "code",
   "execution_count": 26,
   "metadata": {},
   "outputs": [],
   "source": [
    "pdf_download_header = {\n",
    "    \"accept\": \"text/html,application/xhtml+xml,application/xml;q=0.9,image/avif,image/webp,image/apng,*/*;q=0.8,application/signed-exchange;v=b3;q=0.7\",\n",
    "    \"accept-language\": \"ko-KR,ko;q=0.9,en-US;q=0.8,en;q=0.7\",\n",
    "    \"cache-control\": \"max-age=0\",\n",
    "    \"if-none-match\": \"7546671-207093166-20201016104803\",\n",
    "    \"sec-ch-ua\": \"\\\"Chromium\\\";v=\\\"116\\\", \\\"Not)A;Brand\\\";v=\\\"24\\\", \\\"Google Chrome\\\";v=\\\"116\\\"\",\n",
    "    \"sec-ch-ua-mobile\": \"?0\",\n",
    "    \"sec-ch-ua-platform\": \"\\\"macOS\\\"\",\n",
    "    \"sec-fetch-dest\": \"document\",\n",
    "    \"sec-fetch-mode\": \"navigate\",\n",
    "    \"sec-fetch-site\": \"none\",\n",
    "    \"sec-fetch-user\": \"?1\",\n",
    "    \"upgrade-insecure-requests\": \"1\",\n",
    "    \"User-Agent\": \"Mozilla/5.0 (Macintosh; Intel Mac OS X 10_15_7) AppleWebKit/537.36 (KHTML, like Gecko) Chrome/116.0.0.0 Safari/537.36\"\n",
    "  }\n"
   ]
  },
  {
   "cell_type": "code",
   "execution_count": 27,
   "metadata": {},
   "outputs": [],
   "source": [
    "import os.path\n",
    "from pathlib import Path\n",
    "\n",
    "save_path = \"data/pmc/\"\n",
    "Path(save_path).mkdir(parents=True, exist_ok=True)\n",
    "\n",
    "def download_pdf(pdf_url):\n",
    "    pdf_id = pdf_url.split(\"/\")[5]\n",
    "    file_path = f\"{save_path}{pdf_id}.pdf\"\n",
    "    if os.path.isfile(file_path): return\n",
    "\n",
    "    response = requests.get(pdf_url, headers=pdf_download_header)\n",
    "    with open(file_path, \"wb\") as f:\n",
    "        f.write(response.content)\n",
    "\n",
    "download_pdf(pdf_urls[0])"
   ]
  },
  {
   "cell_type": "code",
   "execution_count": 28,
   "metadata": {},
   "outputs": [
    {
     "name": "stderr",
     "output_type": "stream",
     "text": [
      "  0%|          | 0/91204 [00:00<?, ?it/s]"
     ]
    },
    {
     "name": "stderr",
     "output_type": "stream",
     "text": [
      " 10%|█         | 9332/91204 [35:43<5:13:25,  4.35it/s]  \n"
     ]
    },
    {
     "ename": "KeyboardInterrupt",
     "evalue": "",
     "output_type": "error",
     "traceback": [
      "\u001b[0;31m---------------------------------------------------------------------------\u001b[0m",
      "\u001b[0;31mKeyboardInterrupt\u001b[0m                         Traceback (most recent call last)",
      "Cell \u001b[0;32mIn[28], line 2\u001b[0m\n\u001b[1;32m      1\u001b[0m \u001b[39mfor\u001b[39;00m pdf_url \u001b[39min\u001b[39;00m tqdm(pdf_urls):\n\u001b[0;32m----> 2\u001b[0m     download_pdf(pdf_url)\n",
      "Cell \u001b[0;32mIn[27], line 12\u001b[0m, in \u001b[0;36mdownload_pdf\u001b[0;34m(pdf_url)\u001b[0m\n\u001b[1;32m      9\u001b[0m file_path \u001b[39m=\u001b[39m \u001b[39mf\u001b[39m\u001b[39m\"\u001b[39m\u001b[39m{\u001b[39;00msave_path\u001b[39m}\u001b[39;00m\u001b[39m{\u001b[39;00mpdf_id\u001b[39m}\u001b[39;00m\u001b[39m.pdf\u001b[39m\u001b[39m\"\u001b[39m\n\u001b[1;32m     10\u001b[0m \u001b[39mif\u001b[39;00m os\u001b[39m.\u001b[39mpath\u001b[39m.\u001b[39misfile(file_path): \u001b[39mreturn\u001b[39;00m\n\u001b[0;32m---> 12\u001b[0m response \u001b[39m=\u001b[39m requests\u001b[39m.\u001b[39;49mget(pdf_url, headers\u001b[39m=\u001b[39;49mpdf_download_header)\n\u001b[1;32m     13\u001b[0m \u001b[39mwith\u001b[39;00m \u001b[39mopen\u001b[39m(file_path, \u001b[39m\"\u001b[39m\u001b[39mwb\u001b[39m\u001b[39m\"\u001b[39m) \u001b[39mas\u001b[39;00m f:\n\u001b[1;32m     14\u001b[0m     f\u001b[39m.\u001b[39mwrite(response\u001b[39m.\u001b[39mcontent)\n",
      "File \u001b[0;32m/workspace/.pyenv_mirror/user/current/lib/python3.10/site-packages/requests/api.py:73\u001b[0m, in \u001b[0;36mget\u001b[0;34m(url, params, **kwargs)\u001b[0m\n\u001b[1;32m     62\u001b[0m \u001b[39mdef\u001b[39;00m \u001b[39mget\u001b[39m(url, params\u001b[39m=\u001b[39m\u001b[39mNone\u001b[39;00m, \u001b[39m*\u001b[39m\u001b[39m*\u001b[39mkwargs):\n\u001b[1;32m     63\u001b[0m \u001b[39m    \u001b[39m\u001b[39mr\u001b[39m\u001b[39m\"\"\"Sends a GET request.\u001b[39;00m\n\u001b[1;32m     64\u001b[0m \n\u001b[1;32m     65\u001b[0m \u001b[39m    :param url: URL for the new :class:`Request` object.\u001b[39;00m\n\u001b[0;32m   (...)\u001b[0m\n\u001b[1;32m     70\u001b[0m \u001b[39m    :rtype: requests.Response\u001b[39;00m\n\u001b[1;32m     71\u001b[0m \u001b[39m    \"\"\"\u001b[39;00m\n\u001b[0;32m---> 73\u001b[0m     \u001b[39mreturn\u001b[39;00m request(\u001b[39m\"\u001b[39;49m\u001b[39mget\u001b[39;49m\u001b[39m\"\u001b[39;49m, url, params\u001b[39m=\u001b[39;49mparams, \u001b[39m*\u001b[39;49m\u001b[39m*\u001b[39;49mkwargs)\n",
      "File \u001b[0;32m/workspace/.pyenv_mirror/user/current/lib/python3.10/site-packages/requests/api.py:59\u001b[0m, in \u001b[0;36mrequest\u001b[0;34m(method, url, **kwargs)\u001b[0m\n\u001b[1;32m     55\u001b[0m \u001b[39m# By using the 'with' statement we are sure the session is closed, thus we\u001b[39;00m\n\u001b[1;32m     56\u001b[0m \u001b[39m# avoid leaving sockets open which can trigger a ResourceWarning in some\u001b[39;00m\n\u001b[1;32m     57\u001b[0m \u001b[39m# cases, and look like a memory leak in others.\u001b[39;00m\n\u001b[1;32m     58\u001b[0m \u001b[39mwith\u001b[39;00m sessions\u001b[39m.\u001b[39mSession() \u001b[39mas\u001b[39;00m session:\n\u001b[0;32m---> 59\u001b[0m     \u001b[39mreturn\u001b[39;00m session\u001b[39m.\u001b[39;49mrequest(method\u001b[39m=\u001b[39;49mmethod, url\u001b[39m=\u001b[39;49murl, \u001b[39m*\u001b[39;49m\u001b[39m*\u001b[39;49mkwargs)\n",
      "File \u001b[0;32m/workspace/.pyenv_mirror/user/current/lib/python3.10/site-packages/requests/sessions.py:589\u001b[0m, in \u001b[0;36mSession.request\u001b[0;34m(self, method, url, params, data, headers, cookies, files, auth, timeout, allow_redirects, proxies, hooks, stream, verify, cert, json)\u001b[0m\n\u001b[1;32m    584\u001b[0m send_kwargs \u001b[39m=\u001b[39m {\n\u001b[1;32m    585\u001b[0m     \u001b[39m\"\u001b[39m\u001b[39mtimeout\u001b[39m\u001b[39m\"\u001b[39m: timeout,\n\u001b[1;32m    586\u001b[0m     \u001b[39m\"\u001b[39m\u001b[39mallow_redirects\u001b[39m\u001b[39m\"\u001b[39m: allow_redirects,\n\u001b[1;32m    587\u001b[0m }\n\u001b[1;32m    588\u001b[0m send_kwargs\u001b[39m.\u001b[39mupdate(settings)\n\u001b[0;32m--> 589\u001b[0m resp \u001b[39m=\u001b[39m \u001b[39mself\u001b[39;49m\u001b[39m.\u001b[39;49msend(prep, \u001b[39m*\u001b[39;49m\u001b[39m*\u001b[39;49msend_kwargs)\n\u001b[1;32m    591\u001b[0m \u001b[39mreturn\u001b[39;00m resp\n",
      "File \u001b[0;32m/workspace/.pyenv_mirror/user/current/lib/python3.10/site-packages/requests/sessions.py:703\u001b[0m, in \u001b[0;36mSession.send\u001b[0;34m(self, request, **kwargs)\u001b[0m\n\u001b[1;32m    700\u001b[0m start \u001b[39m=\u001b[39m preferred_clock()\n\u001b[1;32m    702\u001b[0m \u001b[39m# Send the request\u001b[39;00m\n\u001b[0;32m--> 703\u001b[0m r \u001b[39m=\u001b[39m adapter\u001b[39m.\u001b[39;49msend(request, \u001b[39m*\u001b[39;49m\u001b[39m*\u001b[39;49mkwargs)\n\u001b[1;32m    705\u001b[0m \u001b[39m# Total elapsed time of the request (approximately)\u001b[39;00m\n\u001b[1;32m    706\u001b[0m elapsed \u001b[39m=\u001b[39m preferred_clock() \u001b[39m-\u001b[39m start\n",
      "File \u001b[0;32m/workspace/.pyenv_mirror/user/current/lib/python3.10/site-packages/requests/adapters.py:486\u001b[0m, in \u001b[0;36mHTTPAdapter.send\u001b[0;34m(self, request, stream, timeout, verify, cert, proxies)\u001b[0m\n\u001b[1;32m    483\u001b[0m     timeout \u001b[39m=\u001b[39m TimeoutSauce(connect\u001b[39m=\u001b[39mtimeout, read\u001b[39m=\u001b[39mtimeout)\n\u001b[1;32m    485\u001b[0m \u001b[39mtry\u001b[39;00m:\n\u001b[0;32m--> 486\u001b[0m     resp \u001b[39m=\u001b[39m conn\u001b[39m.\u001b[39;49murlopen(\n\u001b[1;32m    487\u001b[0m         method\u001b[39m=\u001b[39;49mrequest\u001b[39m.\u001b[39;49mmethod,\n\u001b[1;32m    488\u001b[0m         url\u001b[39m=\u001b[39;49murl,\n\u001b[1;32m    489\u001b[0m         body\u001b[39m=\u001b[39;49mrequest\u001b[39m.\u001b[39;49mbody,\n\u001b[1;32m    490\u001b[0m         headers\u001b[39m=\u001b[39;49mrequest\u001b[39m.\u001b[39;49mheaders,\n\u001b[1;32m    491\u001b[0m         redirect\u001b[39m=\u001b[39;49m\u001b[39mFalse\u001b[39;49;00m,\n\u001b[1;32m    492\u001b[0m         assert_same_host\u001b[39m=\u001b[39;49m\u001b[39mFalse\u001b[39;49;00m,\n\u001b[1;32m    493\u001b[0m         preload_content\u001b[39m=\u001b[39;49m\u001b[39mFalse\u001b[39;49;00m,\n\u001b[1;32m    494\u001b[0m         decode_content\u001b[39m=\u001b[39;49m\u001b[39mFalse\u001b[39;49;00m,\n\u001b[1;32m    495\u001b[0m         retries\u001b[39m=\u001b[39;49m\u001b[39mself\u001b[39;49m\u001b[39m.\u001b[39;49mmax_retries,\n\u001b[1;32m    496\u001b[0m         timeout\u001b[39m=\u001b[39;49mtimeout,\n\u001b[1;32m    497\u001b[0m         chunked\u001b[39m=\u001b[39;49mchunked,\n\u001b[1;32m    498\u001b[0m     )\n\u001b[1;32m    500\u001b[0m \u001b[39mexcept\u001b[39;00m (ProtocolError, \u001b[39mOSError\u001b[39;00m) \u001b[39mas\u001b[39;00m err:\n\u001b[1;32m    501\u001b[0m     \u001b[39mraise\u001b[39;00m \u001b[39mConnectionError\u001b[39;00m(err, request\u001b[39m=\u001b[39mrequest)\n",
      "File \u001b[0;32m/workspace/.pyenv_mirror/user/current/lib/python3.10/site-packages/urllib3/connectionpool.py:790\u001b[0m, in \u001b[0;36mHTTPConnectionPool.urlopen\u001b[0;34m(self, method, url, body, headers, retries, redirect, assert_same_host, timeout, pool_timeout, release_conn, chunked, body_pos, preload_content, decode_content, **response_kw)\u001b[0m\n\u001b[1;32m    787\u001b[0m response_conn \u001b[39m=\u001b[39m conn \u001b[39mif\u001b[39;00m \u001b[39mnot\u001b[39;00m release_conn \u001b[39melse\u001b[39;00m \u001b[39mNone\u001b[39;00m\n\u001b[1;32m    789\u001b[0m \u001b[39m# Make the request on the HTTPConnection object\u001b[39;00m\n\u001b[0;32m--> 790\u001b[0m response \u001b[39m=\u001b[39m \u001b[39mself\u001b[39;49m\u001b[39m.\u001b[39;49m_make_request(\n\u001b[1;32m    791\u001b[0m     conn,\n\u001b[1;32m    792\u001b[0m     method,\n\u001b[1;32m    793\u001b[0m     url,\n\u001b[1;32m    794\u001b[0m     timeout\u001b[39m=\u001b[39;49mtimeout_obj,\n\u001b[1;32m    795\u001b[0m     body\u001b[39m=\u001b[39;49mbody,\n\u001b[1;32m    796\u001b[0m     headers\u001b[39m=\u001b[39;49mheaders,\n\u001b[1;32m    797\u001b[0m     chunked\u001b[39m=\u001b[39;49mchunked,\n\u001b[1;32m    798\u001b[0m     retries\u001b[39m=\u001b[39;49mretries,\n\u001b[1;32m    799\u001b[0m     response_conn\u001b[39m=\u001b[39;49mresponse_conn,\n\u001b[1;32m    800\u001b[0m     preload_content\u001b[39m=\u001b[39;49mpreload_content,\n\u001b[1;32m    801\u001b[0m     decode_content\u001b[39m=\u001b[39;49mdecode_content,\n\u001b[1;32m    802\u001b[0m     \u001b[39m*\u001b[39;49m\u001b[39m*\u001b[39;49mresponse_kw,\n\u001b[1;32m    803\u001b[0m )\n\u001b[1;32m    805\u001b[0m \u001b[39m# Everything went great!\u001b[39;00m\n\u001b[1;32m    806\u001b[0m clean_exit \u001b[39m=\u001b[39m \u001b[39mTrue\u001b[39;00m\n",
      "File \u001b[0;32m/workspace/.pyenv_mirror/user/current/lib/python3.10/site-packages/urllib3/connectionpool.py:536\u001b[0m, in \u001b[0;36mHTTPConnectionPool._make_request\u001b[0;34m(self, conn, method, url, body, headers, retries, timeout, chunked, response_conn, preload_content, decode_content, enforce_content_length)\u001b[0m\n\u001b[1;32m    534\u001b[0m \u001b[39m# Receive the response from the server\u001b[39;00m\n\u001b[1;32m    535\u001b[0m \u001b[39mtry\u001b[39;00m:\n\u001b[0;32m--> 536\u001b[0m     response \u001b[39m=\u001b[39m conn\u001b[39m.\u001b[39;49mgetresponse()\n\u001b[1;32m    537\u001b[0m \u001b[39mexcept\u001b[39;00m (BaseSSLError, \u001b[39mOSError\u001b[39;00m) \u001b[39mas\u001b[39;00m e:\n\u001b[1;32m    538\u001b[0m     \u001b[39mself\u001b[39m\u001b[39m.\u001b[39m_raise_timeout(err\u001b[39m=\u001b[39me, url\u001b[39m=\u001b[39murl, timeout_value\u001b[39m=\u001b[39mread_timeout)\n",
      "File \u001b[0;32m/workspace/.pyenv_mirror/user/current/lib/python3.10/site-packages/urllib3/connection.py:461\u001b[0m, in \u001b[0;36mHTTPConnection.getresponse\u001b[0;34m(self)\u001b[0m\n\u001b[1;32m    458\u001b[0m \u001b[39mfrom\u001b[39;00m \u001b[39m.\u001b[39;00m\u001b[39mresponse\u001b[39;00m \u001b[39mimport\u001b[39;00m HTTPResponse\n\u001b[1;32m    460\u001b[0m \u001b[39m# Get the response from http.client.HTTPConnection\u001b[39;00m\n\u001b[0;32m--> 461\u001b[0m httplib_response \u001b[39m=\u001b[39m \u001b[39msuper\u001b[39;49m()\u001b[39m.\u001b[39;49mgetresponse()\n\u001b[1;32m    463\u001b[0m \u001b[39mtry\u001b[39;00m:\n\u001b[1;32m    464\u001b[0m     assert_header_parsing(httplib_response\u001b[39m.\u001b[39mmsg)\n",
      "File \u001b[0;32m/usr/lib/python3.10/http/client.py:1375\u001b[0m, in \u001b[0;36mHTTPConnection.getresponse\u001b[0;34m(self)\u001b[0m\n\u001b[1;32m   1373\u001b[0m \u001b[39mtry\u001b[39;00m:\n\u001b[1;32m   1374\u001b[0m     \u001b[39mtry\u001b[39;00m:\n\u001b[0;32m-> 1375\u001b[0m         response\u001b[39m.\u001b[39;49mbegin()\n\u001b[1;32m   1376\u001b[0m     \u001b[39mexcept\u001b[39;00m \u001b[39mConnectionError\u001b[39;00m:\n\u001b[1;32m   1377\u001b[0m         \u001b[39mself\u001b[39m\u001b[39m.\u001b[39mclose()\n",
      "File \u001b[0;32m/usr/lib/python3.10/http/client.py:318\u001b[0m, in \u001b[0;36mHTTPResponse.begin\u001b[0;34m(self)\u001b[0m\n\u001b[1;32m    316\u001b[0m \u001b[39m# read until we get a non-100 response\u001b[39;00m\n\u001b[1;32m    317\u001b[0m \u001b[39mwhile\u001b[39;00m \u001b[39mTrue\u001b[39;00m:\n\u001b[0;32m--> 318\u001b[0m     version, status, reason \u001b[39m=\u001b[39m \u001b[39mself\u001b[39;49m\u001b[39m.\u001b[39;49m_read_status()\n\u001b[1;32m    319\u001b[0m     \u001b[39mif\u001b[39;00m status \u001b[39m!=\u001b[39m CONTINUE:\n\u001b[1;32m    320\u001b[0m         \u001b[39mbreak\u001b[39;00m\n",
      "File \u001b[0;32m/usr/lib/python3.10/http/client.py:279\u001b[0m, in \u001b[0;36mHTTPResponse._read_status\u001b[0;34m(self)\u001b[0m\n\u001b[1;32m    278\u001b[0m \u001b[39mdef\u001b[39;00m \u001b[39m_read_status\u001b[39m(\u001b[39mself\u001b[39m):\n\u001b[0;32m--> 279\u001b[0m     line \u001b[39m=\u001b[39m \u001b[39mstr\u001b[39m(\u001b[39mself\u001b[39;49m\u001b[39m.\u001b[39;49mfp\u001b[39m.\u001b[39;49mreadline(_MAXLINE \u001b[39m+\u001b[39;49m \u001b[39m1\u001b[39;49m), \u001b[39m\"\u001b[39m\u001b[39miso-8859-1\u001b[39m\u001b[39m\"\u001b[39m)\n\u001b[1;32m    280\u001b[0m     \u001b[39mif\u001b[39;00m \u001b[39mlen\u001b[39m(line) \u001b[39m>\u001b[39m _MAXLINE:\n\u001b[1;32m    281\u001b[0m         \u001b[39mraise\u001b[39;00m LineTooLong(\u001b[39m\"\u001b[39m\u001b[39mstatus line\u001b[39m\u001b[39m\"\u001b[39m)\n",
      "File \u001b[0;32m/usr/lib/python3.10/socket.py:705\u001b[0m, in \u001b[0;36mSocketIO.readinto\u001b[0;34m(self, b)\u001b[0m\n\u001b[1;32m    703\u001b[0m \u001b[39mwhile\u001b[39;00m \u001b[39mTrue\u001b[39;00m:\n\u001b[1;32m    704\u001b[0m     \u001b[39mtry\u001b[39;00m:\n\u001b[0;32m--> 705\u001b[0m         \u001b[39mreturn\u001b[39;00m \u001b[39mself\u001b[39;49m\u001b[39m.\u001b[39;49m_sock\u001b[39m.\u001b[39;49mrecv_into(b)\n\u001b[1;32m    706\u001b[0m     \u001b[39mexcept\u001b[39;00m timeout:\n\u001b[1;32m    707\u001b[0m         \u001b[39mself\u001b[39m\u001b[39m.\u001b[39m_timeout_occurred \u001b[39m=\u001b[39m \u001b[39mTrue\u001b[39;00m\n",
      "File \u001b[0;32m/usr/lib/python3.10/ssl.py:1303\u001b[0m, in \u001b[0;36mSSLSocket.recv_into\u001b[0;34m(self, buffer, nbytes, flags)\u001b[0m\n\u001b[1;32m   1299\u001b[0m     \u001b[39mif\u001b[39;00m flags \u001b[39m!=\u001b[39m \u001b[39m0\u001b[39m:\n\u001b[1;32m   1300\u001b[0m         \u001b[39mraise\u001b[39;00m \u001b[39mValueError\u001b[39;00m(\n\u001b[1;32m   1301\u001b[0m           \u001b[39m\"\u001b[39m\u001b[39mnon-zero flags not allowed in calls to recv_into() on \u001b[39m\u001b[39m%s\u001b[39;00m\u001b[39m\"\u001b[39m \u001b[39m%\u001b[39m\n\u001b[1;32m   1302\u001b[0m           \u001b[39mself\u001b[39m\u001b[39m.\u001b[39m\u001b[39m__class__\u001b[39m)\n\u001b[0;32m-> 1303\u001b[0m     \u001b[39mreturn\u001b[39;00m \u001b[39mself\u001b[39;49m\u001b[39m.\u001b[39;49mread(nbytes, buffer)\n\u001b[1;32m   1304\u001b[0m \u001b[39melse\u001b[39;00m:\n\u001b[1;32m   1305\u001b[0m     \u001b[39mreturn\u001b[39;00m \u001b[39msuper\u001b[39m()\u001b[39m.\u001b[39mrecv_into(buffer, nbytes, flags)\n",
      "File \u001b[0;32m/usr/lib/python3.10/ssl.py:1159\u001b[0m, in \u001b[0;36mSSLSocket.read\u001b[0;34m(self, len, buffer)\u001b[0m\n\u001b[1;32m   1157\u001b[0m \u001b[39mtry\u001b[39;00m:\n\u001b[1;32m   1158\u001b[0m     \u001b[39mif\u001b[39;00m buffer \u001b[39mis\u001b[39;00m \u001b[39mnot\u001b[39;00m \u001b[39mNone\u001b[39;00m:\n\u001b[0;32m-> 1159\u001b[0m         \u001b[39mreturn\u001b[39;00m \u001b[39mself\u001b[39;49m\u001b[39m.\u001b[39;49m_sslobj\u001b[39m.\u001b[39;49mread(\u001b[39mlen\u001b[39;49m, buffer)\n\u001b[1;32m   1160\u001b[0m     \u001b[39melse\u001b[39;00m:\n\u001b[1;32m   1161\u001b[0m         \u001b[39mreturn\u001b[39;00m \u001b[39mself\u001b[39m\u001b[39m.\u001b[39m_sslobj\u001b[39m.\u001b[39mread(\u001b[39mlen\u001b[39m)\n",
      "\u001b[0;31mKeyboardInterrupt\u001b[0m: "
     ]
    }
   ],
   "source": [
    "for pdf_url in tqdm(pdf_urls):\n",
    "    download_pdf(pdf_url)\n"
   ]
  },
  {
   "cell_type": "code",
   "execution_count": null,
   "metadata": {},
   "outputs": [],
   "source": []
  },
  {
   "cell_type": "code",
   "execution_count": null,
   "metadata": {},
   "outputs": [],
   "source": []
  },
  {
   "cell_type": "code",
   "execution_count": null,
   "metadata": {},
   "outputs": [],
   "source": []
  },
  {
   "cell_type": "code",
   "execution_count": null,
   "metadata": {},
   "outputs": [],
   "source": []
  },
  {
   "cell_type": "code",
   "execution_count": null,
   "metadata": {},
   "outputs": [],
   "source": []
  },
  {
   "cell_type": "code",
   "execution_count": null,
   "metadata": {},
   "outputs": [],
   "source": []
  }
 ],
 "metadata": {
  "kernelspec": {
   "display_name": "Python 3",
   "language": "python",
   "name": "python3"
  },
  "language_info": {
   "codemirror_mode": {
    "name": "ipython",
    "version": 3
   },
   "file_extension": ".py",
   "mimetype": "text/x-python",
   "name": "python",
   "nbconvert_exporter": "python",
   "pygments_lexer": "ipython3",
   "version": "3.10.12"
  },
  "orig_nbformat": 4
 },
 "nbformat": 4,
 "nbformat_minor": 2
}
